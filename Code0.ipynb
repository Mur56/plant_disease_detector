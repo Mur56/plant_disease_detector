from google.colab import drive
drive.mount('/content/drive')
import zipfile
with zipfile.ZipFile('/content/drive/MyDrive/plant disease detection 3.zip', 'r') as zip_ref:
    zip_ref.extractall('data')  # Extract the contents to a folder named 'data'
import tensorflow as tf
from tensorflow.keras.preprocessing.image import ImageDataGenerator
from tensorflow.keras.models import Sequential
from tensorflow.keras.layers import Conv2D, MaxPooling2D, Flatten, Dense
 # Define image dimensions and batch size
img_width, img_height = 256, 256
batch_size = 32 # Define paths to train, validation, and test datasets for each plant
 train_path_apple = '/content/data/Apple/Train'
 val_path_apple = '/content/data/Apple/Val'
 test_path_apple = '/content/data/Apple/Test'

 train_path_bell_pepper = '/content/data/Bell Pepper/Train'
 val_path_bell_pepper = '/content/data/Bell Pepper/Val'
 test_path_bell_pepper = '/content/data/Bell Pepper/Test'

 train_path_cherry='/content/data/Cherry/Train'
 val_path_cherry='/content/data/Cherry/Val'
 test_path_cherry='/content/data/Cherry/Test'

 train_path_corn='/content/data/Corn (Maize)/Train'
 val_path_corn='/content/data/Corn (Maize)/Val'
 test_path_corn='/content/data/Corn (Maize)/Test'

 train_path_grape='/content/data/Grape/Train'
 val_path_grape='/content/data/Grape/Val'
 test_path_grape='/content/data/Grape/Test'

 train_path_peach='/content/data/Peach/Train'
 val_path_peach='/content/data/Peach/Val'
 test_path_peach='/content/data/Peach/Test'

 train_path_potato='/content/data/Potato/Train'
 val_path_potato='/content/data/Potato/Val'
 test_path_potato='/content/data/Potato/Test'

 train_path_strawberry='/content/data/Strawberry/Train'
 val_path_straberry='/content/data/Strawberry/Val'
 test_path_strawberry='/content/data/Strawberry/Test'

 train_path_tomato='/content/data/Tomato/Train'
 val_path_tomato='/content/data/Tomato/Val'
 test_path_tomato='/content/data/Tomato/Test'
 # Define image dimensions and batch size
 img_width, img_height = 256, 256
 batch_size = 32
# Create data generators for each plant's train, validation, and test datasets
train_generator_apple = ImageDataGenerator(rescale=1./255).flow_from_directory(
    '/content/data/Apple/Train',
    target_size=(img_width, img_height),
    batch_size=batch_size,
    class_mode='categorical')
val_generator_apple = ImageDataGenerator(rescale=1./255).flow_from_directory(
    '/content/data/Apple/Val',
    target_size=(img_width, img_height),
    batch_size=batch_size,
    class_mode='categorical')
test_generator_apple = ImageDataGenerator(rescale=1./255).flow_from_directory(
    '/content/data/Apple/Test',
    target_size=(img_width, img_height),
    batch_size=batch_size,
    class_mode='categorical')
train_generator_bell_paper = ImageDataGenerator(rescale=1./255).flow_from_directory(
    '/content/data/Bell Pepper/Train',
    target_size=(img_width, img_height),
    batch_size=batch_size,
    class_mode='categorical')
val_generator_bell_paper = ImageDataGenerator(rescale=1./255).flow_from_directory(
    '/content/data/Bell Pepper/Val',
    target_size=(img_width, img_height),
    batch_size=batch_size,
    class_mode='categorical')
test_generator_bell_paper = ImageDataGenerator(rescale=1./255).flow_from_directory(
    '/content/data/Bell Pepper/Test',
    target_size=(img_width, img_height),
    batch_size=batch_size,
    class_mode='categorical')
train_generator_cherry = ImageDataGenerator(rescale=1./255).flow_from_directory(
    '/content/data/Cherry/Train',
    target_size=(img_width, img_height),
    batch_size=batch_size,
    class_mode='categorical')
val_generator_cherry = ImageDataGenerator(rescale=1./255).flow_from_directory(
    '/content/data/Cherry/Val',
    target_size=(img_width, img_height),
    batch_size=batch_size,
    class_mode='categorical')
test_generator_cherry = ImageDataGenerator(rescale=1./255).flow_from_directory(
    '/content/data/Cherry/Test',
    target_size=(img_width, img_height),
    batch_size=batch_size,
    class_mode='categorical')
train_generator_corn = ImageDataGenerator(rescale=1./255).flow_from_directory(
    '/content/data/Corn (Maize)/Train',
    target_size=(img_width, img_height),
    batch_size=batch_size,
    class_mode='categorical')
val_generator_corn = ImageDataGenerator(rescale=1./255).flow_from_directory(
    '/content/data/Corn (Maize)/Val',
    target_size=(img_width, img_height),
    batch_size=batch_size,
    class_mode='categorical')
test_generator_corn = ImageDataGenerator(rescale=1./255).flow_from_directory(
    '/content/data/Corn (Maize)/Test',
    target_size=(img_width, img_height),
    batch_size=batch_size,
    class_mode='categorical')
train_generator_grape = ImageDataGenerator(rescale=1./255).flow_from_directory(
    '/content/data/Grape/Train',
    target_size=(img_width, img_height),
    batch_size=batch_size,
    class_mode='categorical')
val_generator_grape = ImageDataGenerator(rescale=1./255).flow_from_directory(
    '/content/data/Grape/Val',
    target_size=(img_width, img_height),
 batch_size=batch_size,
    class_mode='categorical')
test_generator_grape = ImageDataGenerator(rescale=1./255).flow_from_directory(
    '/content/data/Grape/Test',
    target_size=(img_width, img_height),
    batch_size=batch_size,
    class_mode='categorical')
train_generator_peach = ImageDataGenerator(rescale=1./255).flow_from_directory(
    '/content/data/Peach/Train',
    target_size=(img_width, img_height),
    batch_size=batch_size,
    class_mode='categorical')
val_generator_peach = ImageDataGenerator(rescale=1./255).flow_from_directory(
    '/content/data/Peach/Val',
    target_size=(img_width, img_height),
    batch_size=batch_size,
    class_mode='categorical')
test_generator_peach = ImageDataGenerator(rescale=1./255).flow_from_directory(
    '/content/data/Peach/Test',
    target_size=(img_width, img_height),
    batch_size=batch_size,
    class_mode='categorical')
train_generator_potato = ImageDataGenerator(rescale=1./255).flow_from_directory(
    '/content/data/Potato/Train',
    target_size=(img_width, img_height),
    batch_size=batch_size,
    class_mode='categorical')
val_generator_potato = ImageDataGenerator(rescale=1./255).flow_from_directory(
    '/content/data/Potato/Val',
    target_size=(img_width, img_height),
    batch_size=batch_size,
    class_mode='categorical')
test_generator_potato = ImageDataGenerator(rescale=1./255).flow_from_directory(
    '/content/data/Potato/Test',
    target_size=(img_width, img_height),
    batch_size=batch_size,
    class_mode='categorical')
train_generator_strawberry = ImageDataGenerator(rescale=1./255).flow_from_directory(
    '/content/data/Strawberry/Train',
    target_size=(img_width, img_height),
    batch_size=batch_size,
    class_mode='categorical')
val_generator_strawberry = ImageDataGenerator(rescale=1./255).flow_from_directory(
    '/content/data/Strawberry/Val',
    target_size=(img_width, img_height),
    batch_size=batch_size,
    class_mode='categorical')
test_generator_strawberry = ImageDataGenerator(rescale=1./255).flow_from_directory(
    '/content/data/Strawberry/Test',
    target_size=(img_width, img_height),
    batch_size=batch_size,
    class_mode='categorical')
train_generator_tomato = ImageDataGenerator(rescale=1./255).flow_from_directory(
    '/content/data/Tomato/Train',
    target_size=(img_width, img_height),
    batch_size=batch_size,
    class_mode='categorical')
val_generator_tomato = ImageDataGenerator(rescale=1./255).flow_from_directory(
    '/content/data/Tomato/Val',
    target_size=(img_width, img_height),
    batch_size=batch_size,
    class_mode='categorical')
test_generator_tomato = ImageDataGenerator(rescale=1./255).flow_from_directory(
    '/content/data/Tomato/Test',
    target_size=(img_width, img_height),
    batch_size=batch_size,
    class_mode='categorical')
# Define the number of classes for each plant's dataset
num_classes_apple = 4
num_classes_bell_paper = 2
num_classes_cherry = 2
num_classes_corn = 4
num_classes_grape = 4
num_classes_peach = 2
num_classes_potato = 3
num_classes_strawberry = 2
num_classes_tomato = 6

 # Define the model architecture
 # Replace num_classes with the appropriate variable for each dataset
model_apple = Sequential([
     Conv2D(32, (3, 3), activation='relu', input_shape=(img_width, img_height, 3)),
     MaxPooling2D((2, 2)),
     Conv2D(64, (3, 3), activation='relu'),
     MaxPooling2D((2, 2)),
     Conv2D(128, (3, 3), activation='relu'),
     MaxPooling2D((2, 2)),
     Conv2D(128, (3, 3), activation='relu'),
     MaxPooling2D((2, 2)),
     Flatten(),
     Dense(512, activation='relu'),
     Dense(num_classes_apple, activation='softmax')  # Use num_classes_apple for the Apple dataset
 ])
 # Replace num_classes with the appropriate variable for each dataset
model_bell_paper = Sequential([
     Conv2D(32, (3, 3), activation='relu', input_shape=(img_width, img_height, 3)),
     MaxPooling2D((2, 2)),
     Conv2D(64, (3, 3), activation='relu'),
     MaxPooling2D((2, 2)),
     Conv2D(128, (3, 3), activation='relu'),
     MaxPooling2D((2, 2)),
     Conv2D(128, (3, 3), activation='relu'),
     MaxPooling2D((2, 2)),
     Flatten(),
     Dense(512, activation='relu'),
     Dense(num_classes_bell_paper, activation='softmax')
 ])
 # Replace num_classes with the appropriate variable for each dataset
model_cherry = Sequential([
     Conv2D(32, (3, 3), activation='relu', input_shape=(img_width, img_height, 3)),
     MaxPooling2D((2, 2)),
     Conv2D(64, (3, 3), activation='relu'),
     MaxPooling2D((2, 2)),
     Conv2D(128, (3, 3), activation='relu'),
     MaxPooling2D((2, 2)),
     Conv2D(128, (3, 3), activation='relu'),
     MaxPooling2D((2, 2)),
     Flatten(),
     Dense(512, activation='relu'),
     Dense(num_classes_cherry, activation='softmax')
 ])
 # Replace num_classes with the appropriate variable for each dataset
model_corn = Sequential([
     Conv2D(32, (3, 3), activation='relu', input_shape=(img_width, img_height, 3)),
     MaxPooling2D((2, 2)),
     Conv2D(64, (3, 3), activation='relu'),
     MaxPooling2D((2, 2)),
     Conv2D(128, (3, 3), activation='relu'),
     MaxPooling2D((2, 2)),
     Conv2D(128, (3, 3), activation='relu'),
     MaxPooling2D((2, 2)),
     Flatten(),
     Dense(512, activation='relu'),
     Dense(num_classes_corn, activation='softmax')
 ])
 # Replace num_classes with the appropriate variable for each dataset
model_grape = Sequential([
     Conv2D(32, (3, 3), activation='relu', input_shape=(img_width, img_height, 3)),
     MaxPooling2D((2, 2)),
     Conv2D(64, (3, 3), activation='relu'),
     MaxPooling2D((2, 2)),
     Conv2D(128, (3, 3), activation='relu'),
     MaxPooling2D((2, 2)),
     Conv2D(128, (3, 3), activation='relu'),
     MaxPooling2D((2, 2)),
     Flatten(),
     Dense(512, activation='relu'),
     Dense(num_classes_grape, activation='softmax')
 ])
 # Replace num_classes with the appropriate variable for each dataset
model_peach = Sequential([
     Conv2D(32, (3, 3), activation='relu', input_shape=(img_width, img_height, 3)),
     MaxPooling2D((2, 2)),
     Conv2D(64, (3, 3), activation='relu'),
     MaxPooling2D((2, 2)),
     Conv2D(128, (3, 3), activation='relu'),
     MaxPooling2D((2, 2)),
     Conv2D(128, (3, 3), activation='relu'),
     MaxPooling2D((2, 2)),
     Flatten(),
     Dense(512, activation='relu'),
     Dense(num_classes_peach, activation='softmax')
 ])
 # Replace num_classes with the appropriate variable for each dataset
model_potato = Sequential([
     Conv2D(32, (3, 3), activation='relu', input_shape=(img_width, img_height, 3)),
     MaxPooling2D((2, 2)),
     Conv2D(64, (3, 3), activation='relu'),
     MaxPooling2D((2, 2)),
     Conv2D(128, (3, 3), activation='relu'),
     MaxPooling2D((2, 2)),
     Conv2D(128, (3, 3), activation='relu'),
     MaxPooling2D((2, 2)),
     Flatten(),
     Dense(512, activation='relu'),
     Dense(num_classes_potato, activation='softmax')
 ])
 # Replace num_classes with the appropriate variable for each dataset
model_strawberry = Sequential([
     Conv2D(32, (3, 3), activation='relu', input_shape=(img_width, img_height, 3)),
     MaxPooling2D((2, 2)),
     Conv2D(64, (3, 3), activation='relu'),
     MaxPooling2D((2, 2)),
     Conv2D(128, (3, 3), activation='relu'),
     MaxPooling2D((2, 2)),
     Conv2D(128, (3, 3), activation='relu'),
     MaxPooling2D((2, 2)),
     Flatten(),
     Dense(512, activation='relu'),
     Dense(num_classes_strawberry, activation='softmax')
 ])
 # Replace num_classes with the appropriate variable for each dataset
model_tomato = Sequential([
     Conv2D(32, (3, 3), activation='relu', input_shape=(img_width, img_height, 3)),
     MaxPooling2D((2, 2)),
     Conv2D(64, (3, 3), activation='relu'),
     MaxPooling2D((2, 2)),
     Conv2D(128, (3, 3), activation='relu'),
     MaxPooling2D((2, 2)),
     Conv2D(128, (3, 3), activation='relu'),
     MaxPooling2D((2, 2)),
     Flatten(),
     Dense(512, activation='relu'),
     Dense(num_classes_tomato, activation='softmax')
 ])
model_apple.compile(optimizer='adam',
                     loss='categorical_crossentropy',
                     metrics=['accuracy'])
model_bell_paper.compile(optimizer='adam',
                          loss='categorical_crossentropy',
                          metrics=['accuracy'])
model_cherry.compile(optimizer='adam',
                          loss='categorical_crossentropy',
                          metrics=['accuracy'])
model_corn.compile(optimizer='adam',
                          loss='categorical_crossentropy',
                          metrics=['accuracy'])
model_grape.compile(optimizer='adam',
                          loss='categorical_crossentropy',
                          metrics=['accuracy'])
model_peach.compile(optimizer='adam',
                          loss='categorical_crossentropy',
                          metrics=['accuracy'])
model_potato.compile(optimizer='adam',
                          loss='categorical_crossentropy',
                          metrics=['accuracy'])
model_strawberry.compile(optimizer='adam',
                          loss='categorical_crossentropy',
                          metrics=['accuracy'])
model_tomato.compile(optimizer='adam',
                          loss='categorical_crossentropy',
                          metrics=['accuracy'])

 # Define the number of epochs
epochs = 10

 # Fit the model for each dataset
history_apple = model_apple.fit(train_generator_apple,
                           steps_per_epoch=train_generator_apple.samples // batch_size,
                           epochs=epochs,
                           validation_data=val_generator_apple,
                           validation_steps=val_generator_apple.samples // batch_size)
history_bell_paper = model_bell_paper.fit(train_generator_bell_paper,
                               steps_per_epoch=train_generator_bell_paper.samples // batch_size,
                               epochs=epochs,
                               validation_data=val_generator_bell_paper,
                               validation_steps=val_generator_bell_paper.samples // batch_size)
history_cherry = model_cherry.fit(train_generator_cherry,
                            steps_per_epoch=train_generator_cherry.samples // batch_size,
                            epochs=epochs,
                            validation_data=val_generator_cherry,
                            validation_steps=val_generator_cherry.samples // batch_size)
history_corn = model_corn.fit(train_generator_corn,
                          steps_per_epoch=train_generator_corn.samples // batch_size,
                          epochs=epochs,
                          validation_data=val_generator_corn,
                          validation_steps=val_generator_corn.samples // batch_size)
history_grape = model_grape.fit(train_generator_grape,
                           steps_per_epoch=train_generator_grape.samples // batch_size,
                           epochs=epochs,
                           validation_data=val_generator_grape,
                           validation_steps=val_generator_grape.samples // batch_size)
history_peach = model_peach.fit(train_generator_peach,
                           steps_per_epoch=train_generator_peach.samples // batch_size,
                           epochs=epochs,
                           validation_data=val_generator_peach,
                           validation_steps=val_generator_peach.samples // batch_size)
history_potato = model_potato.fit(train_generator_potato,
                            steps_per_epoch=train_generator_potato.samples // batch_size,
                            epochs=epochs,
                            validation_data=val_generator_potato,
                            validation_steps=val_generator_potato.samples // batch_size)
history_strawberry = model_strawberry.fit(train_generator_strawberry,
                                steps_per_epoch=train_generator_strawberry.samples // batch_size,
                                epochs=epochs,
                                validation_data=val_generator_strawberry,
                                validation_steps=val_generator_strawberry.samples // batch_size)
history_tomato = model_tomato.fit(train_generator_tomato,
                            steps_per_epoch=train_generator_tomato.samples // batch_size,
                            epochs=epochs,
                            validation_data=val_generator_tomato,
                            validation_steps=val_generator_tomato.samples // batch_size)
model_apple.save("/content/plant_disease_model_apple.h5")
model_bell_paper.save("/content/plant_disease_model_bell_paper.h5")
model_cherry.save("/content/plant_disease_model_cherry.h5")
model_corn.save("/content/plant_disease_model_corn.h5")
model_grape.save("/content/plant_disease_model_grape.h5")
model_peach.save("/content/plant_disease_model_peach.h5")
model_potato.save("/content/plant_disease_model_potato.h5")
model_strawberry.save("/content/plant_disease_model_strawberry.h5")
model_tomato.save("/content/plant_disease_model_tomato.h5")

 # Evaluate each model on its respective test dataset
test_loss_apple, test_acc_apple = model_apple.evaluate(test_generator_apple, steps=test_generator_apple.samples // batch_size)
print('Test accuracy for Apple:', test_acc_apple)
test_loss_bell_paper, test_acc_bell_paper = model_bell_paper.evaluate(test_generator_bell_paper, steps=test_generator_bell_paper.samples // batch_size)
print('Test accuracy for Bell Pepper:', test_acc_bell_paper)
 # Evaluate other models similarly for each plant category
test_loss_cherry, test_acc_cherry = model_cherry.evaluate(test_generator_cherry, steps=test_generator_cherry.samples // batch_size)
print('Test accuracy for Cherry:', test_acc_cherry)
test_loss_corn, test_acc_corn = model_corn.evaluate(test_generator_corn, steps=test_generator_corn.samples // batch_size)
print('Test accuracy for Corn:', test_acc_corn)
test_loss_grape, test_acc_grape = model_grape.evaluate(test_generator_grape, steps=test_generator_grape.samples // batch_size)
print('Test accuracy for Grape:', test_acc_grape)
test_loss_peach, test_acc_peach = model_peach.evaluate(test_generator_peach, steps=test_generator_peach.samples // batch_size)
print('Test accuracy for Peach:', test_acc_peach)
test_loss_potato, test_acc_potato = model_potato.evaluate(test_generator_potato, steps=test_generator_potato.samples // batch_size)
print('Test accuracy for Potato:', test_acc_potato)
test_loss_strawberry, test_acc_strawberry = model_strawberry.evaluate(test_generator_strawberry, steps=test_generator_strawberry.samples)
print('Test accuracy for Strawberry:', test_acc_strawberry)
test_loss_tomato, test_acc_tomato = model_tomato.evaluate(test_generator_tomato, steps=test_generator_tomato.samples // batch_size)
print('Test accuracy for Tomato:', test_acc_tomato)
# Disease name dictionary
disease_names = {
    'Apple': {
        0: 'Apple Scab',
        1: 'Black Rot',
        2: 'Cedar Apple Rust',
        3: 'Healthy'
    },
    'Bell Pepper': {
        0: 'Bacterial Spot',
        1: 'Healthy'
    },
    'Cherry': {
        0: 'Healthy',
        1: 'Powdery Mildew'
    },
    'Corn': {
        0: 'Cercospora Leaf Spot',
        1: 'Common Rust',
        2: 'Healthy',
        3: 'Northen Leaf Blight'
    },
    'Grape': {
        0: 'Black Rot',
        1: 'Esca (Black Measles)',
        2: 'Healthy',
        3: 'Leaf Blight'
    },
    'Peach': {
        0: 'Bacterial Spot',
        1: 'Healthy'
    },
    'Potato': {
        0: 'Early Blight',
        1: 'Healthy',
        2: 'Late Blight'
    },
    'Strawberry': {
        0: 'Healthy',
        1: 'Leaf Scorch'
    },
    'Tomato': {
        0: 'Bacterial Spot',
        1: 'Early Blight',
        2: 'Healthy',
        3: 'Late Blight',
        4: 'Seporia Leaf Spot',
        5: 'Yellow Leaf Curl Virus'
    }
}

# Get user input
image_path = input("Enter the full path of the image: ")
plant_category = input("Enter the plant category (e.g., Apple, Corn, Tomato, etc.): ")

# Normalize input
plant_category = plant_category.strip().title()

# Check if the file exists
import os
from tensorflow.keras.preprocessing import image
import numpy as np

if not os.path.exists(image_path):
    print("The image path you provided does not exist.")
elif plant_category not in disease_names:
    print("Invalid plant category. Please check your spelling.")
else:
    img = image.load_img(image_path, target_size=(img_width, img_height))  # Use img_width and img_height
    img_array = image.img_to_array(img)
    img_array = np.expand_dims(img_array, axis=0)
    img_array = img_array / 255.0

    # Select the appropriate model based on the plant category
    if plant_category == 'Apple':
        model = model_apple
    elif plant_category == 'Bell Pepper':
        model = model_bell_paper
    elif plant_category == 'Cherry':
        model = model_cherry
    elif plant_category == 'Corn':
        model = model_corn
    elif plant_category == 'Grape':
        model = model_grape
    elif plant_category == 'Peach':
        model = model_peach
    elif plant_category == 'Potato':
        model = model_potato
    elif plant_category == 'Strawberry':
        model = model_strawberry
    elif plant_category == 'Tomato':
        model = model_tomato
    else:
        print("Invalid plant category. Please check your spelling.")
        exit()

    # Predict using the trained model
    prediction = model.predict(img_array)
    predicted_class = np.argmax(prediction)

    # Get the disease name
    predicted_disease = disease_names[plant_category].get(predicted_class, 'Unknown')

    # Show result
    print(f"\nPlant Category: {plant_category}")
    print(f"Predicted Disease: {predicted_disease}")
